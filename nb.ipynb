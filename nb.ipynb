{
 "cells": [
  {
   "cell_type": "code",
   "source": [
    "import torch\n",
    "import torch.nn as nn\n",
    "import numpy as np\n",
    "from spikingjelly.clock_driven import neuron\n",
    "from spikingjelly import visualizing\n",
    "from matplotlib import pyplot as plt"
   ],
   "metadata": {
    "collapsed": false,
    "pycharm": {
     "name": "#%%\n"
    }
   },
   "execution_count": 7,
   "outputs": []
  },
  {
   "cell_type": "code",
   "execution_count": 8,
   "outputs": [],
   "source": [
    "class Net(nn.Module):\n",
    "    def __init__(self, tau=100.0, v_threshold=1.0, v_reset=0.0):\n",
    "        super().__init__()\n",
    "        # Network structure, a simple two-layer fully connected network, each layer is followed by LIF neurons\n",
    "        self.fc = nn.Sequential(\n",
    "            nn.Flatten(),\n",
    "            nn.Linear(28 * 28, 14 * 14, bias=False),\n",
    "            neuron.LIFNode(tau=tau, v_threshold=v_threshold, v_reset=v_reset),\n",
    "            nn.Linear(14 * 14, 10, bias=False),\n",
    "            neuron.LIFNode(tau=tau, v_threshold=v_threshold, v_reset=v_reset)\n",
    "        )\n",
    "\n",
    "    def forward(self, x):\n",
    "        return self.fc(x)"
   ],
   "metadata": {
    "collapsed": false,
    "pycharm": {
     "name": "#%%\n"
    }
   }
  }
 ],
 "metadata": {
  "kernelspec": {
   "display_name": "Python 3",
   "language": "python",
   "name": "python3"
  },
  "language_info": {
   "codemirror_mode": {
    "name": "ipython",
    "version": 2
   },
   "file_extension": ".py",
   "mimetype": "text/x-python",
   "name": "python",
   "nbconvert_exporter": "python",
   "pygments_lexer": "ipython2",
   "version": "2.7.6"
  }
 },
 "nbformat": 4,
 "nbformat_minor": 0
}